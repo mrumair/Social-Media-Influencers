{
 "cells": [
  {
   "cell_type": "markdown",
   "id": "7f3ff774-bb7d-480d-bd13-3724dd864906",
   "metadata": {
    "jp-MarkdownHeadingCollapsed": true,
    "tags": []
   },
   "source": [
    "### Installing required libraries"
   ]
  },
  {
   "cell_type": "code",
   "execution_count": 1,
   "id": "bf2568a5-cf06-4f0a-a96c-9071b518cad7",
   "metadata": {
    "tags": []
   },
   "outputs": [
    {
     "name": "stdout",
     "output_type": "stream",
     "text": [
      "Collecting psycopg2\n",
      "  Downloading psycopg2-2.9.5-cp37-cp37m-win_amd64.whl (1.2 MB)\n",
      "     ---------------------------------------- 1.2/1.2 MB 2.4 MB/s eta 0:00:00\n",
      "Installing collected packages: psycopg2\n",
      "Successfully installed psycopg2-2.9.5\n"
     ]
    },
    {
     "name": "stderr",
     "output_type": "stream",
     "text": [
      "\n",
      "[notice] A new release of pip available: 22.3.1 -> 23.0.1\n",
      "[notice] To update, run: python.exe -m pip install --upgrade pip\n"
     ]
    }
   ],
   "source": [
    "!pip install psycopg2"
   ]
  },
  {
   "cell_type": "code",
   "execution_count": 3,
   "id": "6bfa87ba-faf6-4b7d-944e-7290dc28ca9c",
   "metadata": {
    "tags": []
   },
   "outputs": [],
   "source": [
    "import psycopg2\n",
    "import pandas as pd"
   ]
  },
  {
   "cell_type": "markdown",
   "id": "54d143c2-16af-4b2e-875c-2fdd9e3645e3",
   "metadata": {
    "jp-MarkdownHeadingCollapsed": true,
    "tags": []
   },
   "source": [
    "### Defining functions"
   ]
  },
  {
   "cell_type": "code",
   "execution_count": 6,
   "id": "f4a3684a-2142-4ed9-a526-c2f7b3f30aa3",
   "metadata": {
    "tags": []
   },
   "outputs": [],
   "source": [
    "def create_database(dbName):\n",
    "    # connect to default db\n",
    "    conn = psycopg2.connect(\"host=localhost dbname=postgres user=postgres password=password\")\n",
    "    conn.set_session(autocommit=True)\n",
    "    cur = conn.cursor()\n",
    "    \n",
    "    # create desired db\n",
    "    cur.execute(\"drop database if exists {}\".format(dbName))\n",
    "    cur.execute(\"create database {}\".format(dbName))\n",
    "    \n",
    "    conn.close()\n",
    "    \n",
    "    # reconnect to newly created db\n",
    "    conn = psycopg2.connect(\"host=localhost dbname={} user=postgres password=password\".format(dbName))\n",
    "    conn.set_session(autocommit=True)\n",
    "    cur = conn.cursor()\n",
    "    \n",
    "    return cur, conn"
   ]
  },
  {
   "cell_type": "code",
   "execution_count": 8,
   "id": "1b59c0e5-1d3b-4331-9f6e-1a06f58ebd44",
   "metadata": {
    "tags": []
   },
   "outputs": [],
   "source": [
    "def create_table(ddl):\n",
    "    try:\n",
    "        cur.execute(ddl)\n",
    "    except psycopg2.Error as e:\n",
    "        print(\"Error: failure to create table\")\n",
    "        print(e)\n",
    "    else:\n",
    "        print(\"Table created\")"
   ]
  },
  {
   "cell_type": "markdown",
   "id": "266f4654-bdfa-454f-b35a-ea175ff8a0f4",
   "metadata": {
    "jp-MarkdownHeadingCollapsed": true,
    "tags": []
   },
   "source": [
    " ### Creating tables\n"
   ]
  },
  {
   "cell_type": "code",
   "execution_count": 9,
   "id": "74d30cd7-2b67-46cf-bae5-9fce5f554d6b",
   "metadata": {
    "tags": []
   },
   "outputs": [],
   "source": [
    "insta_influencers_ddl = (\"\"\"CREATE TABLE public.Insta_Influencer (username varchar(100) not null, name varchar(300) not null, followers varchar(50) not null, audience_country varchar(50) not null,\n",
    "    authentic_engagement varchar(50) not null, engagement_avg varchar(50) not null, category_1 varchar(100) null, category_2 varchar(100) null);\"\"\")"
   ]
  },
  {
   "cell_type": "code",
   "execution_count": 10,
   "id": "e531cb34-0171-4f54-97c7-14c85731661b",
   "metadata": {
    "tags": []
   },
   "outputs": [],
   "source": [
    "insta_influencers_june_ddl = (\"CREATE TABLE public.insta_influencer_June ( username varchar(100) NOT NULL, name varchar(300) NOT NULL, \\\n",
    "\tsubscribers_count varchar(50) NOT NULL, \\\n",
    "\taudience_country varchar(50) NOT NULL, \\\n",
    "\tlikes_avg varchar(50) NOT NULL, \\\n",
    "\tcomments_avg varchar(50) NOT NULL, \\\n",
    "\tcategory_1 varchar(100) NULL, \\\n",
    "\tcategory_2 varchar(100) NULL \\\n",
    ");\")"
   ]
  },
  {
   "cell_type": "code",
   "execution_count": 11,
   "id": "ddd8f3de-255d-4b4a-a7cd-fb1ba329423e",
   "metadata": {
    "tags": []
   },
   "outputs": [],
   "source": [
    "insta_influencers_sep_ddl = (\"CREATE TABLE public.insta_influencer_Sep ( \\\n",
    "\tsr_no int not null, \\\n",
    "\tusername varchar(100) NOT NULL, \\\n",
    "\tname varchar(300) NOT NULL, \\\n",
    "\tsubscribers varchar(50) NOT NULL, \\\n",
    "\taudience_country varchar(50) NOT NULL, \\\n",
    "\tlikes_avg varchar(50) NOT NULL, \\\n",
    "\tauthentic_engagement varchar(50) not null, \\\n",
    "\tengagement_avg varchar(50) NOT NULL, \\\n",
    "\tcategory_1 varchar(100) NULL, \\\n",
    "\tcategory_2 varchar(100) NULL \\\n",
    ");\")"
   ]
  },
  {
   "cell_type": "code",
   "execution_count": null,
   "id": "de57e354-2145-48a5-a86c-00b7e6bf7394",
   "metadata": {},
   "outputs": [],
   "source": [
    "cur, conn = create_database(\"smi\")"
   ]
  },
  {
   "cell_type": "code",
   "execution_count": 12,
   "id": "948bae2e-a42a-4dbd-b658-a39adef5216b",
   "metadata": {
    "tags": []
   },
   "outputs": [
    {
     "name": "stdout",
     "output_type": "stream",
     "text": [
      "Table created\n",
      "Table created\n",
      "Table created\n"
     ]
    }
   ],
   "source": [
    "create_table(insta_influencers_ddl)\n",
    "create_table(insta_influencers_june_ddl)\n",
    "create_table(insta_influencers_sep_ddl)"
   ]
  },
  {
   "cell_type": "markdown",
   "id": "74e2c72f-22e7-48a4-a34a-abda63618ede",
   "metadata": {
    "jp-MarkdownHeadingCollapsed": true,
    "tags": []
   },
   "source": [
    "### Loading files and inserting into tables"
   ]
  },
  {
   "cell_type": "code",
   "execution_count": 14,
   "id": "0c392243-dea2-45c1-bf82-00b1c1887014",
   "metadata": {
    "tags": []
   },
   "outputs": [
    {
     "name": "stdout",
     "output_type": "stream",
     "text": [
      "    Influencer insta name instagram name                 category_1  \\\n",
      "0                     433            433         Sports with a ball   \n",
      "1            __youngbae__        TAEYANG                      Music   \n",
      "2             _agentgirl_  НАСТЯ ИВЛЕЕВА                      Shows   \n",
      "3             _imyour_joy            Joy                  Lifestyle   \n",
      "4           _jeongjaehyun        Jaehyun                        NaN   \n",
      "..                    ...            ...                        ...   \n",
      "995               zendaya        Zendaya  Cinema & Actors/actresses   \n",
      "996                zidane         zidane         Sports with a ball   \n",
      "997                zkdlin            KAI                      Music   \n",
      "998    zoeisabellakravitz   Zoë Kravitz  Cinema & Actors/actresses   \n",
      "999               zoesugg      Zoë Sugg                  Lifestyle   \n",
      "\n",
      "             category_2 Followers Audience country(mostly)  \\\n",
      "0                   NaN     48.5M                    Spain   \n",
      "1                   NaN     12.7M                Indonesia   \n",
      "2                   NaN     18.8M                   Russia   \n",
      "3                   NaN     13.5M                Indonesia   \n",
      "4                   NaN     11.1M                Indonesia   \n",
      "..                  ...       ...                      ...   \n",
      "995             Fashion    136.1M            United States   \n",
      "996                 NaN     31.2M                    Spain   \n",
      "997                 NaN     13.9M                Indonesia   \n",
      "998                 NaN      8.2M            United States   \n",
      "999  Business & Careers      9.4M           United Kingdom   \n",
      "\n",
      "    Authentic engagement\\r\\n Engagement avg\\r\\n  \n",
      "0                     383.1K               637K  \n",
      "1                       478K             542.3K  \n",
      "2                     310.8K             377.9K  \n",
      "3                       1.1M               1.4M  \n",
      "4                       2.5M               3.1M  \n",
      "..                       ...                ...  \n",
      "995                     6.4M               8.6M  \n",
      "996                     546K             744.1K  \n",
      "997                     1.3M               1.6M  \n",
      "998                     583K             885.5K  \n",
      "999                   208.7K             289.3K  \n",
      "\n",
      "[1000 rows x 8 columns]\n"
     ]
    }
   ],
   "source": [
    "insta_influencers_df = pd.read_csv(r'C:\\Umair_Workspace\\Development\\Projects\\P1_SMI\\Social-Media-Influencers\\Dataset\\Social Media Influencers in 2022\\social media influencers - instagram.csv')\n",
    "print(insta_influencers_df)"
   ]
  },
  {
   "cell_type": "code",
   "execution_count": 21,
   "id": "32ebbcad-bb1a-4fc6-880e-f4fabf939421",
   "metadata": {
    "tags": []
   },
   "outputs": [],
   "source": [
    "insta_influencers_insertstmt = (\"INSERT INTO public.insta_influencer \\\n",
    "        (username, name, category_1, category_2, followers, audience_country, authentic_engagement, engagement_avg) \\\n",
    "        VALUES(%s, %s, %s, %s, %s, %s, %s, %s)\")"
   ]
  },
  {
   "cell_type": "code",
   "execution_count": 22,
   "id": "e8bb1310-3645-4d0f-bc76-bb76ec1fd0cc",
   "metadata": {
    "tags": []
   },
   "outputs": [],
   "source": [
    "try:\n",
    "    for i, row in insta_influencers_df.iterrows():\n",
    "        cur.execute(insta_influencers_insertstmt, list(row))\n",
    "except psycopg2.Error as e:\n",
    "    print(\"Error: unable to insert data\")\n",
    "    print(e)"
   ]
  },
  {
   "cell_type": "code",
   "execution_count": 23,
   "id": "582f0961-6312-4eeb-b9c0-fa44eee0b5d1",
   "metadata": {
    "tags": []
   },
   "outputs": [
    {
     "name": "stdout",
     "output_type": "stream",
     "text": [
      "('433', '433', '48.5M', 'Spain', '383.1K', '637K', 'Sports with a ball', 'NaN')\n",
      "('__youngbae__', 'TAEYANG', '12.7M', 'Indonesia', '478K', '542.3K', 'Music', 'NaN')\n",
      "('_agentgirl_', 'НАСТЯ ИВЛЕЕВА', '18.8M', 'Russia', '310.8K', '377.9K', 'Shows', 'NaN')\n",
      "('_imyour_joy', 'Joy', '13.5M', 'Indonesia', '1.1M', '1.4M', 'Lifestyle', 'NaN')\n",
      "('_jeongjaehyun', 'Jaehyun', '11.1M', 'Indonesia', '2.5M', '3.1M', 'NaN', 'NaN')\n",
      "('_mariahwasa', 'HWASA', '7.9M', 'Brazil', '915.1K', '1.2M', 'NaN', 'NaN')\n",
      "('_rl9', 'Robert Lewandowski', '25M', 'Poland', '588.6K', '749K', 'Sports with a ball', 'NaN')\n",
      "('_seorina', '설인아 sᴇᴏʀɪɴᴀ', '3M', 'South Korea', '803.9K', '997.8K', 'Lifestyle', 'Cinema & Actors/actresses')\n",
      "('_shotaroo_', 'SHOTARO ショウタロウ', '4.9M', 'Indonesia', '860.1K', '1.1M', 'NaN', 'NaN')\n",
      "('03_hu', '박지후', '4.1M', 'South Korea', '711K', '872.6K', 'NaN', 'NaN')\n"
     ]
    }
   ],
   "source": [
    "try:\n",
    "    cur.execute(\"select * from public.insta_influencer limit 10\")\n",
    "except psycopg2.Error as e:\n",
    "    print(\"Error: error select\")\n",
    "    print(e)\n",
    "\n",
    "row = cur.fetchone()\n",
    "while row:\n",
    "    print(row)\n",
    "    row = cur.fetchone()"
   ]
  },
  {
   "cell_type": "code",
   "execution_count": null,
   "id": "3b8c9245-413a-4579-9a62-d90bb12a29f1",
   "metadata": {},
   "outputs": [],
   "source": []
  }
 ],
 "metadata": {
  "kernelspec": {
   "display_name": "Python 3 (ipykernel)",
   "language": "python",
   "name": "python3"
  },
  "language_info": {
   "codemirror_mode": {
    "name": "ipython",
    "version": 3
   },
   "file_extension": ".py",
   "mimetype": "text/x-python",
   "name": "python",
   "nbconvert_exporter": "python",
   "pygments_lexer": "ipython3",
   "version": "3.7.0"
  }
 },
 "nbformat": 4,
 "nbformat_minor": 5
}
