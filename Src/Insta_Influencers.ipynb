{
 "cells": [
  {
   "cell_type": "code",
   "execution_count": 1,
   "id": "bf2568a5-cf06-4f0a-a96c-9071b518cad7",
   "metadata": {
    "tags": []
   },
   "outputs": [
    {
     "name": "stdout",
     "output_type": "stream",
     "text": [
      "Collecting psycopg2\n",
      "  Downloading psycopg2-2.9.5-cp37-cp37m-win_amd64.whl (1.2 MB)\n",
      "     ---------------------------------------- 1.2/1.2 MB 2.4 MB/s eta 0:00:00\n",
      "Installing collected packages: psycopg2\n",
      "Successfully installed psycopg2-2.9.5\n"
     ]
    },
    {
     "name": "stderr",
     "output_type": "stream",
     "text": [
      "\n",
      "[notice] A new release of pip available: 22.3.1 -> 23.0.1\n",
      "[notice] To update, run: python.exe -m pip install --upgrade pip\n"
     ]
    }
   ],
   "source": [
    "!pip install psycopg2"
   ]
  },
  {
   "cell_type": "code",
   "execution_count": 3,
   "id": "6bfa87ba-faf6-4b7d-944e-7290dc28ca9c",
   "metadata": {
    "tags": []
   },
   "outputs": [],
   "source": [
    "import psycopg2"
   ]
  },
  {
   "cell_type": "code",
   "execution_count": 8,
   "id": "1beacd91-1e1e-41e4-839f-5f1fa641b93e",
   "metadata": {
    "tags": []
   },
   "outputs": [
    {
     "name": "stdout",
     "output_type": "stream",
     "text": [
      "connected!\n"
     ]
    }
   ],
   "source": [
    "try: \n",
    "    conn = psycopg2.connect(\"host=localhost dbname=postgres user=postgres password=password\")\n",
    "except psycopg2.Error as e:\n",
    "    print(\"Error: Unable to connect to postgres database\")\n",
    "    print(e)\n",
    "else:\n",
    "    print(\"connected!\")"
   ]
  },
  {
   "cell_type": "code",
   "execution_count": 9,
   "id": "ea41e642-ca92-4581-9e66-672209af0794",
   "metadata": {
    "tags": []
   },
   "outputs": [
    {
     "name": "stdout",
     "output_type": "stream",
     "text": [
      "cursor created!\n"
     ]
    }
   ],
   "source": [
    "try: \n",
    "    cur = conn.cursor()\n",
    "except psycopg2.Error as e:\n",
    "    print(\"Error: Could not get cursor to db\")\n",
    "    print(e)\n",
    "else:\n",
    "    print(\"cursor created!\")"
   ]
  },
  {
   "cell_type": "code",
   "execution_count": 10,
   "id": "65f5cf59-3957-4877-9e83-3abda1612c0c",
   "metadata": {
    "tags": []
   },
   "outputs": [],
   "source": [
    "conn.set_session(autocommit=True)"
   ]
  },
  {
   "cell_type": "code",
   "execution_count": 24,
   "id": "594324ad-ac37-4576-8537-c8167fcc92b4",
   "metadata": {
    "tags": []
   },
   "outputs": [
    {
     "name": "stdout",
     "output_type": "stream",
     "text": [
      "database \"f_datamodel_etl\" already exists\n",
      "\n"
     ]
    }
   ],
   "source": [
    "try:\n",
    "    cur.execute(\"CREATE DATABASE f_datamodel_etl\")\n",
    "except psycopg2.Error as e:\n",
    "    print(e)"
   ]
  },
  {
   "cell_type": "code",
   "execution_count": 33,
   "id": "c65bd787-dd5f-4482-a60f-220ac938e9b1",
   "metadata": {
    "tags": []
   },
   "outputs": [
    {
     "name": "stdout",
     "output_type": "stream",
     "text": [
      "connected!\n",
      "cursor created!\n"
     ]
    }
   ],
   "source": [
    "conn.close()\n",
    "\n",
    "try: \n",
    "    conn = psycopg2.connect(\"host=localhost dbname=f_datamodel_etl user=postgres password=password\")\n",
    "except psycopg2.Error as e:\n",
    "    print(\"Error: Unable to connect to postgres database\")\n",
    "    print(e)\n",
    "else:\n",
    "    print(\"connected!\")\n",
    "    \n",
    "\n",
    "try: \n",
    "    cur = conn.cursor()\n",
    "except psycopg2.Error as e:\n",
    "    print(\"Error: Could not get cursor to db\")\n",
    "    print(e)\n",
    "else:\n",
    "    print(\"cursor created!\")"
   ]
  },
  {
   "cell_type": "code",
   "execution_count": 34,
   "id": "5b5f0def-3d21-4c98-8205-0bf3a49f07f2",
   "metadata": {
    "tags": []
   },
   "outputs": [],
   "source": [
    "conn.set_session(autocommit=True)"
   ]
  },
  {
   "cell_type": "code",
   "execution_count": 35,
   "id": "948bae2e-a42a-4dbd-b658-a39adef5216b",
   "metadata": {
    "tags": []
   },
   "outputs": [
    {
     "name": "stdout",
     "output_type": "stream",
     "text": [
      "Table created\n"
     ]
    }
   ],
   "source": [
    "try:\n",
    "    cur.execute(\"CREATE TABLE public.Insta_Influencer (username varchar(100) not null, name varchar(300) not null, followers varchar(50) not null, audience_country varchar(50) not null, \\\n",
    "    authentic_engagement varchar(50) not null, engagement_avg varchar(50) not null, category_1 varchar(100) null, category_2 varchar(100) null);\")\n",
    "except psycopg2.Error as e:\n",
    "    print(\"Error: failure to create table\")\n",
    "    print(e)\n",
    "else:\n",
    "    print(\"Table created\")"
   ]
  },
  {
   "cell_type": "code",
   "execution_count": 37,
   "id": "eb5f07c2-06f4-42df-8505-220e9c3d3be3",
   "metadata": {
    "tags": []
   },
   "outputs": [
    {
     "name": "stdout",
     "output_type": "stream",
     "text": [
      "Table created\n"
     ]
    }
   ],
   "source": [
    "try:\n",
    "    cur.execute(\"CREATE TABLE public.insta_influencer_June ( username varchar(100) NOT NULL, name varchar(300) NOT NULL, \\\n",
    "\tsubscribers_count varchar(50) NOT NULL, \\\n",
    "\taudience_country varchar(50) NOT NULL, \\\n",
    "\tlikes_avg varchar(50) NOT NULL, \\\n",
    "\tcomments_avg varchar(50) NOT NULL, \\\n",
    "\tcategory_1 varchar(100) NULL, \\\n",
    "\tcategory_2 varchar(100) NULL \\\n",
    ");\")\n",
    "except psycopg2.Error as e:\n",
    "    print(\"Error: failure to create table\")\n",
    "    print(e)\n",
    "else:\n",
    "    print(\"Table created\")"
   ]
  },
  {
   "cell_type": "code",
   "execution_count": 39,
   "id": "7580e25d-05f2-4cab-9090-abfba6185f64",
   "metadata": {
    "tags": []
   },
   "outputs": [
    {
     "name": "stdout",
     "output_type": "stream",
     "text": [
      "Table created\n"
     ]
    }
   ],
   "source": [
    "try:\n",
    "    cur.execute(\"CREATE TABLE public.insta_influencer_Sep ( \\\n",
    "\tsr_no int not null, \\\n",
    "\tusername varchar(100) NOT NULL, \\\n",
    "\tname varchar(300) NOT NULL, \\\n",
    "\tsubscribers varchar(50) NOT NULL, \\\n",
    "\taudience_country varchar(50) NOT NULL, \\\n",
    "\tlikes_avg varchar(50) NOT NULL, \\\n",
    "\tauthentic_engagement varchar(50) not null, \\\n",
    "\tengagement_avg varchar(50) NOT NULL, \\\n",
    "\tcategory_1 varchar(100) NULL, \\\n",
    "\tcategory_2 varchar(100) NULL \\\n",
    ");\")\n",
    "except psycopg2.Error as e:\n",
    "    print(\"Error: failure to create table\")\n",
    "    print(e)\n",
    "else:\n",
    "    print(\"Table created\")"
   ]
  },
  {
   "cell_type": "code",
   "execution_count": 43,
   "id": "c72ebfc4-fd86-4e2e-af14-1e8794ee1a62",
   "metadata": {
    "tags": []
   },
   "outputs": [],
   "source": []
  },
  {
   "cell_type": "code",
   "execution_count": 44,
   "id": "15f3c665-2406-48a4-976a-6919de9dc06d",
   "metadata": {
    "tags": []
   },
   "outputs": [],
   "source": [
    "import pandas as pd"
   ]
  },
  {
   "cell_type": "code",
   "execution_count": 45,
   "id": "0c392243-dea2-45c1-bf82-00b1c1887014",
   "metadata": {
    "tags": []
   },
   "outputs": [
    {
     "name": "stdout",
     "output_type": "stream",
     "text": [
      "    Influencer insta name instagram name                 category_1  \\\n",
      "0                     433            433         Sports with a ball   \n",
      "1            __youngbae__        TAEYANG                      Music   \n",
      "2             _agentgirl_  НАСТЯ ИВЛЕЕВА                      Shows   \n",
      "3             _imyour_joy            Joy                  Lifestyle   \n",
      "4           _jeongjaehyun        Jaehyun                        NaN   \n",
      "..                    ...            ...                        ...   \n",
      "995               zendaya        Zendaya  Cinema & Actors/actresses   \n",
      "996                zidane         zidane         Sports with a ball   \n",
      "997                zkdlin            KAI                      Music   \n",
      "998    zoeisabellakravitz   Zoë Kravitz  Cinema & Actors/actresses   \n",
      "999               zoesugg      Zoë Sugg                  Lifestyle   \n",
      "\n",
      "             category_2 Followers Audience country(mostly)  \\\n",
      "0                   NaN     48.5M                    Spain   \n",
      "1                   NaN     12.7M                Indonesia   \n",
      "2                   NaN     18.8M                   Russia   \n",
      "3                   NaN     13.5M                Indonesia   \n",
      "4                   NaN     11.1M                Indonesia   \n",
      "..                  ...       ...                      ...   \n",
      "995             Fashion    136.1M            United States   \n",
      "996                 NaN     31.2M                    Spain   \n",
      "997                 NaN     13.9M                Indonesia   \n",
      "998                 NaN      8.2M            United States   \n",
      "999  Business & Careers      9.4M           United Kingdom   \n",
      "\n",
      "    Authentic engagement\\r\\n Engagement avg\\r\\n  \n",
      "0                     383.1K               637K  \n",
      "1                       478K             542.3K  \n",
      "2                     310.8K             377.9K  \n",
      "3                       1.1M               1.4M  \n",
      "4                       2.5M               3.1M  \n",
      "..                       ...                ...  \n",
      "995                     6.4M               8.6M  \n",
      "996                     546K             744.1K  \n",
      "997                     1.3M               1.6M  \n",
      "998                     583K             885.5K  \n",
      "999                   208.7K             289.3K  \n",
      "\n",
      "[1000 rows x 8 columns]\n"
     ]
    }
   ],
   "source": [
    "df = pd.read_csv(r'C:\\Umair_Workspace\\Development\\Projects\\1_DataModel_ETL\\Dataset\\Social Media Influencers in 2022\\toProcess\\social media influencers - instagram.csv')\n",
    "print(df)"
   ]
  },
  {
   "cell_type": "code",
   "execution_count": 56,
   "id": "20827d84-c4ad-4123-aeab-7d21bb52af90",
   "metadata": {
    "tags": []
   },
   "outputs": [],
   "source": [
    "df.columns = [c.replace(' ','_') for c in df.columns]"
   ]
  },
  {
   "cell_type": "code",
   "execution_count": 60,
   "id": "d235d4f8-e272-4e91-9cfa-7bf93cc8b799",
   "metadata": {
    "tags": []
   },
   "outputs": [],
   "source": [
    "df = df.rename(columns = {'Audience_country(mostly)' : 'Audience_country'})"
   ]
  },
  {
   "cell_type": "code",
   "execution_count": 66,
   "id": "03cc8aff-f6d6-4a66-b427-17d1eb0c6282",
   "metadata": {
    "tags": []
   },
   "outputs": [],
   "source": [
    "df = df.rename(columns = {'Authentic_engagement\\r\\n' : 'Authentic_engagement'})"
   ]
  },
  {
   "cell_type": "code",
   "execution_count": 68,
   "id": "56c1abeb-d273-4e1a-816f-70588df46750",
   "metadata": {
    "tags": []
   },
   "outputs": [],
   "source": [
    "df = df.rename(columns = {'Engagement_avg\\r\\n' : 'Engagement_avg'})"
   ]
  },
  {
   "cell_type": "code",
   "execution_count": 65,
   "id": "ff74bcef-6c5a-4417-879a-1b3c5e955635",
   "metadata": {
    "tags": []
   },
   "outputs": [
    {
     "name": "stdout",
     "output_type": "stream",
     "text": [
      "Index(['Influencer_insta_name', 'instagram_name', 'category_1', 'category_2',\n",
      "       'Followers', 'Audience_country', 'Authentic_engagement\\r\\n',\n",
      "       'Engagement_avg\\r\\n'],\n",
      "      dtype='object')\n"
     ]
    }
   ],
   "source": [
    "print(df.columns)"
   ]
  },
  {
   "cell_type": "code",
   "execution_count": 71,
   "id": "e8bb1310-3645-4d0f-bc76-bb76ec1fd0cc",
   "metadata": {
    "tags": []
   },
   "outputs": [],
   "source": [
    "try:\n",
    "    for index,row in df.iterrows():\n",
    "        cur.execute(\"INSERT INTO public.insta_influencer \\\n",
    "        (username, name, followers, audience_country, authentic_engagement, engagement_avg, category_1, category_2) \\\n",
    "        VALUES(%s, %s, %s, %s, %s, %s, %s, %s)\", (row.Influencer_insta_name, row.instagram_name, row.Followers, row.Audience_country, row.Authentic_engagement, row.Engagement_avg, row.category_1, row.category_2))\n",
    "except psycopg2.Error as e:\n",
    "    print(\"Error: unable to insert data\")\n",
    "    print(e)"
   ]
  },
  {
   "cell_type": "code",
   "execution_count": 74,
   "id": "582f0961-6312-4eeb-b9c0-fa44eee0b5d1",
   "metadata": {
    "tags": []
   },
   "outputs": [
    {
     "name": "stdout",
     "output_type": "stream",
     "text": [
      "('433', '433', '48.5M', 'Spain', '383.1K', '637K', 'Sports with a ball', 'NaN')\n",
      "('__youngbae__', 'TAEYANG', '12.7M', 'Indonesia', '478K', '542.3K', 'Music', 'NaN')\n",
      "('_agentgirl_', 'НАСТЯ ИВЛЕЕВА', '18.8M', 'Russia', '310.8K', '377.9K', 'Shows', 'NaN')\n",
      "('_imyour_joy', 'Joy', '13.5M', 'Indonesia', '1.1M', '1.4M', 'Lifestyle', 'NaN')\n",
      "('_jeongjaehyun', 'Jaehyun', '11.1M', 'Indonesia', '2.5M', '3.1M', 'NaN', 'NaN')\n",
      "('_mariahwasa', 'HWASA', '7.9M', 'Brazil', '915.1K', '1.2M', 'NaN', 'NaN')\n",
      "('_rl9', 'Robert Lewandowski', '25M', 'Poland', '588.6K', '749K', 'Sports with a ball', 'NaN')\n",
      "('_seorina', '설인아 sᴇᴏʀɪɴᴀ', '3M', 'South Korea', '803.9K', '997.8K', 'Lifestyle', 'Cinema & Actors/actresses')\n",
      "('_shotaroo_', 'SHOTARO ショウタロウ', '4.9M', 'Indonesia', '860.1K', '1.1M', 'NaN', 'NaN')\n",
      "('03_hu', '박지후', '4.1M', 'South Korea', '711K', '872.6K', 'NaN', 'NaN')\n"
     ]
    }
   ],
   "source": [
    "try:\n",
    "    cur.execute(\"select * from public.insta_influencer limit 10\")\n",
    "except psycopg2.Error as e:\n",
    "    print(\"Error: error select\")\n",
    "    print(e)\n",
    "\n",
    "row = cur.fetchone()\n",
    "while row:\n",
    "    print(row)\n",
    "    row = cur.fetchone()"
   ]
  },
  {
   "cell_type": "code",
   "execution_count": null,
   "id": "3b8c9245-413a-4579-9a62-d90bb12a29f1",
   "metadata": {},
   "outputs": [],
   "source": []
  }
 ],
 "metadata": {
  "kernelspec": {
   "display_name": "Python 3 (ipykernel)",
   "language": "python",
   "name": "python3"
  },
  "language_info": {
   "codemirror_mode": {
    "name": "ipython",
    "version": 3
   },
   "file_extension": ".py",
   "mimetype": "text/x-python",
   "name": "python",
   "nbconvert_exporter": "python",
   "pygments_lexer": "ipython3",
   "version": "3.7.0"
  }
 },
 "nbformat": 4,
 "nbformat_minor": 5
}
