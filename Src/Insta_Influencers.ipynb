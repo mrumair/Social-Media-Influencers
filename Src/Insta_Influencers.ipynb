{
 "cells": [
  {
   "attachments": {},
   "cell_type": "markdown",
   "id": "7f3ff774-bb7d-480d-bd13-3724dd864906",
   "metadata": {
    "jp-MarkdownHeadingCollapsed": true,
    "tags": []
   },
   "source": [
    "### Installing required libraries"
   ]
  },
  {
   "cell_type": "code",
   "execution_count": null,
   "id": "bf2568a5-cf06-4f0a-a96c-9071b518cad7",
   "metadata": {
    "tags": []
   },
   "outputs": [],
   "source": [
    "%pip install psycopg2"
   ]
  },
  {
   "cell_type": "code",
   "execution_count": null,
   "id": "6bfa87ba-faf6-4b7d-944e-7290dc28ca9c",
   "metadata": {
    "tags": []
   },
   "outputs": [],
   "source": [
    "import psycopg2\n",
    "import pandas as pd"
   ]
  },
  {
   "attachments": {},
   "cell_type": "markdown",
   "id": "54d143c2-16af-4b2e-875c-2fdd9e3645e3",
   "metadata": {
    "jp-MarkdownHeadingCollapsed": true,
    "tags": []
   },
   "source": [
    "### Defining functions"
   ]
  },
  {
   "cell_type": "code",
   "execution_count": null,
   "id": "f4a3684a-2142-4ed9-a526-c2f7b3f30aa3",
   "metadata": {
    "tags": []
   },
   "outputs": [],
   "source": [
    "def create_database(dbName):\n",
    "    # connect to default db\n",
    "    conn = psycopg2.connect(\"host=localhost dbname=postgres user=postgres password=password\")\n",
    "    conn.set_session(autocommit=True)\n",
    "    cur = conn.cursor()\n",
    "    \n",
    "    # create desired db\n",
    "    cur.execute(\"drop database if exists {}\".format(dbName))\n",
    "    cur.execute(\"create database {}\".format(dbName))\n",
    "    \n",
    "    conn.close()\n",
    "    \n",
    "    # reconnect to newly created db\n",
    "    conn = psycopg2.connect(\"host=localhost dbname={} user=postgres password=password\".format(dbName))\n",
    "    conn.set_session(autocommit=True)\n",
    "    cur = conn.cursor()\n",
    "    \n",
    "    return cur, conn"
   ]
  },
  {
   "cell_type": "code",
   "execution_count": null,
   "id": "1b59c0e5-1d3b-4331-9f6e-1a06f58ebd44",
   "metadata": {
    "tags": []
   },
   "outputs": [],
   "source": [
    "def create_table(ddl):\n",
    "    try:\n",
    "        cur.execute(ddl)\n",
    "    except psycopg2.Error as e:\n",
    "        print(\"Error: failure to create table\")\n",
    "        print(e)\n",
    "    else:\n",
    "        print(\"Table created\")"
   ]
  },
  {
   "attachments": {},
   "cell_type": "markdown",
   "id": "266f4654-bdfa-454f-b35a-ea175ff8a0f4",
   "metadata": {
    "jp-MarkdownHeadingCollapsed": true,
    "tags": []
   },
   "source": [
    " ### Creating tables\n"
   ]
  },
  {
   "cell_type": "code",
   "execution_count": null,
   "id": "74d30cd7-2b67-46cf-bae5-9fce5f554d6b",
   "metadata": {
    "tags": []
   },
   "outputs": [],
   "source": [
    "insta_influencers_ddl = (\"\"\"CREATE TABLE public.Insta_Influencer (username varchar(100) not null, name varchar(300) not null, followers varchar(50) not null, audience_country varchar(50) not null,\n",
    "    authentic_engagement varchar(50) not null, engagement_avg varchar(50) not null, category_1 varchar(100) null, category_2 varchar(100) null);\"\"\")"
   ]
  },
  {
   "cell_type": "code",
   "execution_count": null,
   "id": "e531cb34-0171-4f54-97c7-14c85731661b",
   "metadata": {
    "tags": []
   },
   "outputs": [],
   "source": [
    "insta_influencers_june_ddl = (\"CREATE TABLE public.insta_influencer_June ( username varchar(100) NOT NULL, name varchar(300) NOT NULL, \\\n",
    "\tsubscribers_count varchar(50) NOT NULL, \\\n",
    "\taudience_country varchar(50) NOT NULL, \\\n",
    "\tlikes_avg varchar(50) NOT NULL, \\\n",
    "\tcomments_avg varchar(50) NOT NULL, \\\n",
    "\tcategory_1 varchar(100) NULL, \\\n",
    "\tcategory_2 varchar(100) NULL \\\n",
    ");\")"
   ]
  },
  {
   "cell_type": "code",
   "execution_count": null,
   "id": "ddd8f3de-255d-4b4a-a7cd-fb1ba329423e",
   "metadata": {
    "tags": []
   },
   "outputs": [],
   "source": [
    "insta_influencers_sep_ddl = (\"CREATE TABLE public.insta_influencer_Sep ( \\\n",
    "\tsr_no int not null, \\\n",
    "\tusername varchar(100) NOT NULL, \\\n",
    "\tname varchar(300) NOT NULL, \\\n",
    "\tsubscribers varchar(50) NOT NULL, \\\n",
    "\taudience_country varchar(50) NOT NULL, \\\n",
    "\tauthentic_engagement varchar(50) not null, \\\n",
    "\tengagement_avg varchar(50) NOT NULL, \\\n",
    "\tcategory_1 varchar(100) NULL, \\\n",
    "\tcategory_2 varchar(100) NULL \\\n",
    ");\")"
   ]
  },
  {
   "cell_type": "code",
   "execution_count": null,
   "id": "de57e354-2145-48a5-a86c-00b7e6bf7394",
   "metadata": {},
   "outputs": [],
   "source": [
    "cur, conn = create_database(\"smi\")"
   ]
  },
  {
   "cell_type": "code",
   "execution_count": null,
   "id": "948bae2e-a42a-4dbd-b658-a39adef5216b",
   "metadata": {
    "tags": []
   },
   "outputs": [],
   "source": [
    "create_table(insta_influencers_ddl)\n",
    "create_table(insta_influencers_june_ddl)\n",
    "create_table(insta_influencers_sep_ddl)"
   ]
  },
  {
   "attachments": {},
   "cell_type": "markdown",
   "id": "d38fd755-531d-4ba0-8471-fd32da73cb1f",
   "metadata": {
    "jp-MarkdownHeadingCollapsed": true,
    "tags": []
   },
   "source": [
    "### Loading files and inserting into tables"
   ]
  },
  {
   "attachments": {},
   "cell_type": "markdown",
   "id": "23a3893f-1e53-4161-99ea-f14489585b67",
   "metadata": {
    "jp-MarkdownHeadingCollapsed": true,
    "tags": []
   },
   "source": [
    "##### SMI"
   ]
  },
  {
   "cell_type": "code",
   "execution_count": null,
   "id": "0c392243-dea2-45c1-bf82-00b1c1887014",
   "metadata": {
    "tags": []
   },
   "outputs": [],
   "source": [
    "insta_influencers_df = pd.read_csv(r'C:\\Umair_Workspace\\Development\\Projects\\P1_SMI\\Social-Media-Influencers\\Dataset\\Social Media Influencers in 2022\\social media influencers - instagram.csv')\n",
    "print(insta_influencers_df)"
   ]
  },
  {
   "cell_type": "code",
   "execution_count": null,
   "id": "32ebbcad-bb1a-4fc6-880e-f4fabf939421",
   "metadata": {
    "tags": []
   },
   "outputs": [],
   "source": [
    "insta_influencers_insertstmt = (\"INSERT INTO public.insta_influencer \\\n",
    "        (username, name, category_1, category_2, followers, audience_country, authentic_engagement, engagement_avg) \\\n",
    "        VALUES(%s, %s, %s, %s, %s, %s, %s, %s)\")"
   ]
  },
  {
   "cell_type": "code",
   "execution_count": null,
   "id": "e8bb1310-3645-4d0f-bc76-bb76ec1fd0cc",
   "metadata": {
    "tags": []
   },
   "outputs": [],
   "source": [
    "try:\n",
    "    for i, row in insta_influencers_df.iterrows():\n",
    "        cur.execute(insta_influencers_insertstmt, list(row))\n",
    "except psycopg2.Error as e:\n",
    "    print(\"Error: unable to insert data\")\n",
    "    print(e)"
   ]
  },
  {
   "cell_type": "code",
   "execution_count": null,
   "id": "582f0961-6312-4eeb-b9c0-fa44eee0b5d1",
   "metadata": {
    "tags": []
   },
   "outputs": [],
   "source": [
    "try:\n",
    "    cur.execute(\"select * from public.insta_influencer limit 10\")\n",
    "except psycopg2.Error as e:\n",
    "    print(\"Error: error select\")\n",
    "    print(e)\n",
    "\n",
    "row = cur.fetchone()\n",
    "while row:\n",
    "    print(row)\n",
    "    row = cur.fetchone()"
   ]
  },
  {
   "attachments": {},
   "cell_type": "markdown",
   "id": "774d9810-930a-4f32-8632-6c82340bdb5f",
   "metadata": {
    "jp-MarkdownHeadingCollapsed": true,
    "tags": []
   },
   "source": [
    "##### SMI_September"
   ]
  },
  {
   "cell_type": "code",
   "execution_count": null,
   "id": "3b8c9245-413a-4579-9a62-d90bb12a29f1",
   "metadata": {},
   "outputs": [],
   "source": [
    "insta_influencers_Sep_df = pd.read_csv(r'C:\\Umair_Workspace\\Development\\Projects\\P1_SMI\\Social-Media-Influencers\\Dataset\\Social Media Influencers in 2022\\social media influencers - instagram sep-2022.csv')\n",
    "insta_influencers_Sep_df"
   ]
  },
  {
   "cell_type": "code",
   "execution_count": null,
   "id": "5cb7f7f9-97d6-4cdb-be9e-f9ded8b19049",
   "metadata": {
    "tags": []
   },
   "outputs": [],
   "source": [
    "insta_influencers_sep_insertstmt = (\"INSERT INTO public.insta_influencer_sep \\\n",
    "(sr_no, username, name, subscribers, audience_country, authentic_engagement, engagement_avg, category_1, category_2) \\\n",
    "VALUES(%s, %s, %s, %s, %s, %s, %s, %s, %s);\")"
   ]
  },
  {
   "cell_type": "code",
   "execution_count": null,
   "id": "76401b2c-c810-4626-ba2d-15dd54bae820",
   "metadata": {
    "tags": []
   },
   "outputs": [],
   "source": [
    "conn = psycopg2.connect(\"host=localhost dbname={} user=postgres password=password\".format(\"smi\"))\n",
    "conn.set_session(autocommit=True)\n",
    "cur = conn.cursor()"
   ]
  },
  {
   "cell_type": "code",
   "execution_count": null,
   "id": "2b06b51f-411c-4314-8375-529079e5f2c9",
   "metadata": {
    "tags": []
   },
   "outputs": [],
   "source": [
    "try:\n",
    "    for i, row in insta_influencers_Sep_df.iterrows():\n",
    "        cur.execute(insta_influencers_sep_insertstmt, list(row))\n",
    "    print(\"Data inserted\")\n",
    "except psycopg2.Error as e:\n",
    "    print(\"Error: unable to insert data\")\n",
    "    print(e)"
   ]
  },
  {
   "cell_type": "code",
   "execution_count": null,
   "id": "8949d627-257d-4545-8329-19b2b74d0d06",
   "metadata": {
    "tags": []
   },
   "outputs": [],
   "source": [
    "try:\n",
    "    cur.execute(\"select * from public.insta_influencer_sep limit 10\")\n",
    "except psycopg2.Error as e:\n",
    "    print(\"Error: error select\")\n",
    "    print(e)\n",
    "\n",
    "row = cur.fetchone()\n",
    "while row:\n",
    "    print(row)\n",
    "    row = cur.fetchone()"
   ]
  },
  {
   "attachments": {},
   "cell_type": "markdown",
   "id": "bdd9f097-5442-4386-a1d3-011f8ee55787",
   "metadata": {
    "jp-MarkdownHeadingCollapsed": true,
    "tags": []
   },
   "source": [
    "##### SMI_June"
   ]
  },
  {
   "cell_type": "code",
   "execution_count": 34,
   "id": "8da9b205-1ec7-42e2-bda1-afd4e27f026a",
   "metadata": {
    "tags": []
   },
   "outputs": [
    {
     "data": {
      "text/html": [
       "<div>\n",
       "<style scoped>\n",
       "    .dataframe tbody tr th:only-of-type {\n",
       "        vertical-align: middle;\n",
       "    }\n",
       "\n",
       "    .dataframe tbody tr th {\n",
       "        vertical-align: top;\n",
       "    }\n",
       "\n",
       "    .dataframe thead th {\n",
       "        text-align: right;\n",
       "    }\n",
       "</style>\n",
       "<table border=\"1\" class=\"dataframe\">\n",
       "  <thead>\n",
       "    <tr style=\"text-align: right;\">\n",
       "      <th></th>\n",
       "      <th>instagram name</th>\n",
       "      <th>influencer name</th>\n",
       "      <th>Category_1</th>\n",
       "      <th>Category_2</th>\n",
       "      <th>Subscribers count</th>\n",
       "      <th>Views avg.</th>\n",
       "      <th>Likes avg</th>\n",
       "      <th>Comments avg.</th>\n",
       "    </tr>\n",
       "  </thead>\n",
       "  <tbody>\n",
       "    <tr>\n",
       "      <th>0</th>\n",
       "      <td>433</td>\n",
       "      <td>433</td>\n",
       "      <td>Sports with a ball</td>\n",
       "      <td>NaN</td>\n",
       "      <td>50.7M</td>\n",
       "      <td>Spain</td>\n",
       "      <td>274.9K</td>\n",
       "      <td>456.7K</td>\n",
       "    </tr>\n",
       "    <tr>\n",
       "      <th>1</th>\n",
       "      <td>____kimwoobin</td>\n",
       "      <td>김우빈</td>\n",
       "      <td>Lifestyle</td>\n",
       "      <td>NaN</td>\n",
       "      <td>3.6M</td>\n",
       "      <td>Indonesia</td>\n",
       "      <td>449.4K</td>\n",
       "      <td>592.7K</td>\n",
       "    </tr>\n",
       "    <tr>\n",
       "      <th>2</th>\n",
       "      <td>__youngbae__</td>\n",
       "      <td>TAEYANG</td>\n",
       "      <td>Music</td>\n",
       "      <td>NaN</td>\n",
       "      <td>13.4M</td>\n",
       "      <td>Indonesia</td>\n",
       "      <td>269.6K</td>\n",
       "      <td>304.1K</td>\n",
       "    </tr>\n",
       "    <tr>\n",
       "      <th>3</th>\n",
       "      <td>_agentgirl_</td>\n",
       "      <td>НАСТЯ ИВЛЕЕВА</td>\n",
       "      <td>Shows</td>\n",
       "      <td>NaN</td>\n",
       "      <td>18.6M</td>\n",
       "      <td>Russia</td>\n",
       "      <td>164.4K</td>\n",
       "      <td>189.4K</td>\n",
       "    </tr>\n",
       "    <tr>\n",
       "      <th>4</th>\n",
       "      <td>_hakkencoser_</td>\n",
       "      <td>Hakken 八犬</td>\n",
       "      <td>Lifestyle</td>\n",
       "      <td>Photography</td>\n",
       "      <td>3.5M</td>\n",
       "      <td>United States</td>\n",
       "      <td>525.1K</td>\n",
       "      <td>643K</td>\n",
       "    </tr>\n",
       "    <tr>\n",
       "      <th>...</th>\n",
       "      <td>...</td>\n",
       "      <td>...</td>\n",
       "      <td>...</td>\n",
       "      <td>...</td>\n",
       "      <td>...</td>\n",
       "      <td>...</td>\n",
       "      <td>...</td>\n",
       "      <td>...</td>\n",
       "    </tr>\n",
       "    <tr>\n",
       "      <th>1017</th>\n",
       "      <td>zidane</td>\n",
       "      <td>zidane</td>\n",
       "      <td>Sports with a ball</td>\n",
       "      <td>NaN</td>\n",
       "      <td>33M</td>\n",
       "      <td>Spain</td>\n",
       "      <td>412.4K</td>\n",
       "      <td>560.8K</td>\n",
       "    </tr>\n",
       "    <tr>\n",
       "      <th>1018</th>\n",
       "      <td>zidane</td>\n",
       "      <td>zidane</td>\n",
       "      <td>Sports with a ball</td>\n",
       "      <td>NaN</td>\n",
       "      <td>33M</td>\n",
       "      <td>Spain</td>\n",
       "      <td>412.4K</td>\n",
       "      <td>560.8K</td>\n",
       "    </tr>\n",
       "    <tr>\n",
       "      <th>1019</th>\n",
       "      <td>zkdlin</td>\n",
       "      <td>KAI</td>\n",
       "      <td>Music</td>\n",
       "      <td>NaN</td>\n",
       "      <td>14.1M</td>\n",
       "      <td>Indonesia</td>\n",
       "      <td>1.4M</td>\n",
       "      <td>1.7M</td>\n",
       "    </tr>\n",
       "    <tr>\n",
       "      <th>1020</th>\n",
       "      <td>zo</td>\n",
       "      <td>Lonzo Ball</td>\n",
       "      <td>Sports with a ball</td>\n",
       "      <td>NaN</td>\n",
       "      <td>14M</td>\n",
       "      <td>United States</td>\n",
       "      <td>145.8K</td>\n",
       "      <td>262K</td>\n",
       "    </tr>\n",
       "    <tr>\n",
       "      <th>1021</th>\n",
       "      <td>zoeisabellakravitz</td>\n",
       "      <td>Zoë Kravitz</td>\n",
       "      <td>Cinema &amp; Actors/actresses</td>\n",
       "      <td>NaN</td>\n",
       "      <td>8.5M</td>\n",
       "      <td>United States</td>\n",
       "      <td>342.4K</td>\n",
       "      <td>519.3K</td>\n",
       "    </tr>\n",
       "  </tbody>\n",
       "</table>\n",
       "<p>1022 rows × 8 columns</p>\n",
       "</div>"
      ],
      "text/plain": [
       "          instagram name influencer name                  Category_1  \\\n",
       "0                    433              433         Sports with a ball   \n",
       "1          ____kimwoobin         김우빈                  Lifestyle   \n",
       "2           __youngbae__          TAEYANG                      Music   \n",
       "3            _agentgirl_    НАСТЯ ИВЛЕЕВА                      Shows   \n",
       "4          _hakkencoser_        Hakken 八犬                  Lifestyle   \n",
       "...                  ...              ...                        ...   \n",
       "1017              zidane           zidane         Sports with a ball   \n",
       "1018              zidane           zidane         Sports with a ball   \n",
       "1019              zkdlin              KAI                      Music   \n",
       "1020                  zo       Lonzo Ball         Sports with a ball   \n",
       "1021  zoeisabellakravitz     Zoë Kravitz  Cinema & Actors/actresses   \n",
       "\n",
       "       Category_2 Subscribers count     Views avg. Likes avg Comments avg.  \n",
       "0             NaN             50.7M          Spain    274.9K        456.7K  \n",
       "1             NaN              3.6M      Indonesia    449.4K        592.7K  \n",
       "2             NaN             13.4M      Indonesia    269.6K        304.1K  \n",
       "3             NaN             18.6M         Russia    164.4K        189.4K  \n",
       "4     Photography              3.5M  United States    525.1K          643K  \n",
       "...           ...               ...            ...       ...           ...  \n",
       "1017          NaN               33M          Spain    412.4K        560.8K  \n",
       "1018          NaN               33M          Spain    412.4K        560.8K  \n",
       "1019          NaN             14.1M      Indonesia      1.4M          1.7M  \n",
       "1020          NaN               14M  United States    145.8K          262K  \n",
       "1021          NaN              8.5M  United States    342.4K        519.3K  \n",
       "\n",
       "[1022 rows x 8 columns]"
      ]
     },
     "execution_count": 34,
     "metadata": {},
     "output_type": "execute_result"
    }
   ],
   "source": [
    "insta_influencers_June_df = pd.read_csv(r'C:\\Umair_Workspace\\Development\\Projects\\P1_SMI\\Social-Media-Influencers\\Dataset\\Social Media Influencers in 2022\\social media influencers-instagram june 2022 - june 2022.csv')\n",
    "insta_influencers_June_df"
   ]
  },
  {
   "cell_type": "code",
   "execution_count": 28,
   "id": "b0686acd-191a-499f-8edb-b4c166f43d74",
   "metadata": {
    "tags": []
   },
   "outputs": [],
   "source": [
    "insta_influencers_june_insertstmt = (\"INSERT INTO public.insta_influencer_june \\\n",
    "(username, name, subscribers_count, audience_country, likes_avg, comments_avg, category_1, category_2) \\\n",
    "VALUES(%s, %s, %s, %s, %s, %s, %s, %s);\")"
   ]
  },
  {
   "cell_type": "code",
   "execution_count": 31,
   "id": "a0521a29-7270-451e-9fdd-7941bceb8780",
   "metadata": {
    "tags": []
   },
   "outputs": [],
   "source": [
    "for i, row in insta_influencers_June_df.iterrows():\n",
    "    cur.execute(insta_influencers_june_insertstmt, list(row))"
   ]
  },
  {
   "cell_type": "code",
   "execution_count": 38,
   "id": "d7e9f438-c343-404d-a9ae-6483b1a8e954",
   "metadata": {},
   "outputs": [
    {
     "name": "stdout",
     "output_type": "stream",
     "text": [
      "('433', '433', 'Sports with a ball', 'NaN', '50.7M', 'Spain', '274.9K', '456.7K')\n",
      "('____kimwoobin', '김우빈', 'Lifestyle', 'NaN', '3.6M', 'Indonesia', '449.4K', '592.7K')\n",
      "('__youngbae__', 'TAEYANG', 'Music', 'NaN', '13.4M', 'Indonesia', '269.6K', '304.1K')\n",
      "('_agentgirl_', 'НАСТЯ ИВЛЕЕВА', 'Shows', 'NaN', '18.6M', 'Russia', '164.4K', '189.4K')\n",
      "('_hakkencoser_', 'Hakken 八犬', 'Lifestyle', 'Photography', '3.5M', 'United States', '525.1K', '643K')\n",
      "('_hakkencoser_', 'Hakken 八犬', 'Lifestyle', 'Photography', '3.5M', 'United States', '525.1K', '643K')\n",
      "('_imyour_joy', 'Joy', 'Lifestyle', 'NaN', '14M', 'Indonesia', '1.1M', '1.4M')\n",
      "('_jeongjaehyun', 'Jaehyun', 'NaN', 'NaN', '11.9M', 'Indonesia', '2.1M', '2.6M')\n",
      "('_mariahwasa', 'HWASA', 'NaN', 'NaN', '8.2M', 'Brazil', '957.2K', '1.2M')\n",
      "('_rl9', 'Robert Lewandowski', 'Sports with a ball', 'NaN', '26.6M', 'Poland', '381.9K', '486K')\n",
      "('_seorina', '설인아 sᴇᴏʀɪɴᴀ', 'Lifestyle', 'Cinema & Actors/actresses', '5.7M', 'South Korea', '728K', '903.5K')\n",
      "('_shotaroo_', 'SHOTARO ショウタロウ', 'Lifestyle', 'Music', '5.3M', 'Indonesia', '866.9K', '1.1M')\n",
      "('_zyozyo', '지효 (JIHYO)', 'NaN', 'NaN', '3.6M', '0', '1.9M', 'NaN')\n",
      "('03_hu', '박지후', 'Lifestyle', 'NaN', '4.2M', 'South Korea', '632.2K', '775.6K')\n",
      "('21savage', 'NaN', 'Music', 'NaN', '13.5M', 'United States', '271.2K', '475.8K')\n"
     ]
    }
   ],
   "source": [
    "cur.execute(\"select * from public.insta_influencer_june limit 15\")\n",
    "row = cur.fetchall()\n",
    "for r in row:\n",
    "    print(r)\n",
    "# row = cur.fetchone()\n",
    "# while row:\n",
    "#     print(row)\n",
    "#     row = cur.fetchone()"
   ]
  },
  {
   "cell_type": "code",
   "execution_count": null,
   "id": "1c6d8a91-59ad-483b-a3d3-b481075bfc8f",
   "metadata": {},
   "outputs": [],
   "source": []
  }
 ],
 "metadata": {
  "kernelspec": {
   "display_name": "Python 3 (ipykernel)",
   "language": "python",
   "name": "python3"
  },
  "language_info": {
   "codemirror_mode": {
    "name": "ipython",
    "version": 3
   },
   "file_extension": ".py",
   "mimetype": "text/x-python",
   "name": "python",
   "nbconvert_exporter": "python",
   "pygments_lexer": "ipython3",
   "version": "3.7.0"
  }
 },
 "nbformat": 4,
 "nbformat_minor": 5
}
