{
 "cells": [
  {
   "cell_type": "code",
   "execution_count": 2,
   "id": "1d72729b-b77e-40e7-938f-88fb45736fc5",
   "metadata": {
    "tags": []
   },
   "outputs": [],
   "source": [
    "import psycopg2\n",
    "import pandas as pd"
   ]
  },
  {
   "attachments": {},
   "cell_type": "markdown",
   "id": "25681926",
   "metadata": {},
   "source": [
    "## Functions"
   ]
  },
  {
   "cell_type": "code",
   "execution_count": 3,
   "id": "ddd758b9-808a-42ea-b7e7-6c4d08c7158b",
   "metadata": {
    "tags": []
   },
   "outputs": [],
   "source": [
    "def connect_db():\n",
    "    conn = psycopg2.connect(\"host=localhost dbname=smi user=postgres password=password\")\n",
    "    conn.set_session(autocommit=True)\n",
    "    cur = conn.cursor()\n",
    "    return conn, cur"
   ]
  },
  {
   "cell_type": "code",
   "execution_count": 4,
   "id": "b0c8cae4-6763-4b59-b29f-66fda458faa9",
   "metadata": {
    "tags": []
   },
   "outputs": [],
   "source": [
    "def select_data(tableName, limit):\n",
    "    cur.execute(\"select * from {} limit {}\".format(tableName, limit))\n",
    "    row = cur.fetchall()\n",
    "    for r in row:\n",
    "        print(r)"
   ]
  },
  {
   "cell_type": "code",
   "execution_count": 5,
   "id": "ea3c5efd-a730-4cd2-8dfe-0881d6a8ef2c",
   "metadata": {
    "tags": []
   },
   "outputs": [],
   "source": [
    "def fetch_data(tableName):\n",
    "    query = \"select * from {}\".format(tableName)\n",
    "    df = pd.read_sql(query, conn)\n",
    "    return df"
   ]
  },
  {
   "cell_type": "code",
   "execution_count": 6,
   "id": "0e5fd352-ce3d-41a2-860e-7abed5da78a4",
   "metadata": {
    "tags": []
   },
   "outputs": [],
   "source": [
    "def toNumbers(df, col):\n",
    "    df[col] = df[col].replace({\"K\":\"*1e3\", \"M\":\"*1e6\"}, regex=True).map(pd.eval).astype(int)"
   ]
  },
  {
   "attachments": {},
   "cell_type": "markdown",
   "id": "931cca4c",
   "metadata": {},
   "source": [
    "## Transformation"
   ]
  },
  {
   "cell_type": "code",
   "execution_count": 7,
   "id": "9508c35f-96bc-4a1f-9de8-de3239a209a9",
   "metadata": {
    "tags": []
   },
   "outputs": [],
   "source": [
    "conn, cur = connect_db()"
   ]
  },
  {
   "cell_type": "code",
   "execution_count": 8,
   "id": "76717ec5-89b5-48f3-92b6-264f53a8adcd",
   "metadata": {
    "tags": []
   },
   "outputs": [
    {
     "data": {
      "text/html": [
       "<div>\n",
       "<style scoped>\n",
       "    .dataframe tbody tr th:only-of-type {\n",
       "        vertical-align: middle;\n",
       "    }\n",
       "\n",
       "    .dataframe tbody tr th {\n",
       "        vertical-align: top;\n",
       "    }\n",
       "\n",
       "    .dataframe thead th {\n",
       "        text-align: right;\n",
       "    }\n",
       "</style>\n",
       "<table border=\"1\" class=\"dataframe\">\n",
       "  <thead>\n",
       "    <tr style=\"text-align: right;\">\n",
       "      <th></th>\n",
       "      <th>username</th>\n",
       "      <th>name</th>\n",
       "      <th>followers</th>\n",
       "      <th>audience_country</th>\n",
       "      <th>authentic_engagement</th>\n",
       "      <th>engagement_avg</th>\n",
       "      <th>category_1</th>\n",
       "      <th>category_2</th>\n",
       "    </tr>\n",
       "  </thead>\n",
       "  <tbody>\n",
       "    <tr>\n",
       "      <th>0</th>\n",
       "      <td>433</td>\n",
       "      <td>433</td>\n",
       "      <td>48.5M</td>\n",
       "      <td>Spain</td>\n",
       "      <td>383.1K</td>\n",
       "      <td>637K</td>\n",
       "      <td>Sports with a ball</td>\n",
       "      <td>NaN</td>\n",
       "    </tr>\n",
       "    <tr>\n",
       "      <th>1</th>\n",
       "      <td>__youngbae__</td>\n",
       "      <td>TAEYANG</td>\n",
       "      <td>12.7M</td>\n",
       "      <td>Indonesia</td>\n",
       "      <td>478K</td>\n",
       "      <td>542.3K</td>\n",
       "      <td>Music</td>\n",
       "      <td>NaN</td>\n",
       "    </tr>\n",
       "    <tr>\n",
       "      <th>2</th>\n",
       "      <td>_agentgirl_</td>\n",
       "      <td>НАСТЯ ИВЛЕЕВА</td>\n",
       "      <td>18.8M</td>\n",
       "      <td>Russia</td>\n",
       "      <td>310.8K</td>\n",
       "      <td>377.9K</td>\n",
       "      <td>Shows</td>\n",
       "      <td>NaN</td>\n",
       "    </tr>\n",
       "    <tr>\n",
       "      <th>3</th>\n",
       "      <td>_imyour_joy</td>\n",
       "      <td>Joy</td>\n",
       "      <td>13.5M</td>\n",
       "      <td>Indonesia</td>\n",
       "      <td>1.1M</td>\n",
       "      <td>1.4M</td>\n",
       "      <td>Lifestyle</td>\n",
       "      <td>NaN</td>\n",
       "    </tr>\n",
       "    <tr>\n",
       "      <th>4</th>\n",
       "      <td>_jeongjaehyun</td>\n",
       "      <td>Jaehyun</td>\n",
       "      <td>11.1M</td>\n",
       "      <td>Indonesia</td>\n",
       "      <td>2.5M</td>\n",
       "      <td>3.1M</td>\n",
       "      <td>NaN</td>\n",
       "      <td>NaN</td>\n",
       "    </tr>\n",
       "    <tr>\n",
       "      <th>...</th>\n",
       "      <td>...</td>\n",
       "      <td>...</td>\n",
       "      <td>...</td>\n",
       "      <td>...</td>\n",
       "      <td>...</td>\n",
       "      <td>...</td>\n",
       "      <td>...</td>\n",
       "      <td>...</td>\n",
       "    </tr>\n",
       "    <tr>\n",
       "      <th>995</th>\n",
       "      <td>zendaya</td>\n",
       "      <td>Zendaya</td>\n",
       "      <td>136.1M</td>\n",
       "      <td>United States</td>\n",
       "      <td>6.4M</td>\n",
       "      <td>8.6M</td>\n",
       "      <td>Cinema &amp; Actors/actresses</td>\n",
       "      <td>Fashion</td>\n",
       "    </tr>\n",
       "    <tr>\n",
       "      <th>996</th>\n",
       "      <td>zidane</td>\n",
       "      <td>zidane</td>\n",
       "      <td>31.2M</td>\n",
       "      <td>Spain</td>\n",
       "      <td>546K</td>\n",
       "      <td>744.1K</td>\n",
       "      <td>Sports with a ball</td>\n",
       "      <td>NaN</td>\n",
       "    </tr>\n",
       "    <tr>\n",
       "      <th>997</th>\n",
       "      <td>zkdlin</td>\n",
       "      <td>KAI</td>\n",
       "      <td>13.9M</td>\n",
       "      <td>Indonesia</td>\n",
       "      <td>1.3M</td>\n",
       "      <td>1.6M</td>\n",
       "      <td>Music</td>\n",
       "      <td>NaN</td>\n",
       "    </tr>\n",
       "    <tr>\n",
       "      <th>998</th>\n",
       "      <td>zoeisabellakravitz</td>\n",
       "      <td>Zoë Kravitz</td>\n",
       "      <td>8.2M</td>\n",
       "      <td>United States</td>\n",
       "      <td>583K</td>\n",
       "      <td>885.5K</td>\n",
       "      <td>Cinema &amp; Actors/actresses</td>\n",
       "      <td>NaN</td>\n",
       "    </tr>\n",
       "    <tr>\n",
       "      <th>999</th>\n",
       "      <td>zoesugg</td>\n",
       "      <td>Zoë Sugg</td>\n",
       "      <td>9.4M</td>\n",
       "      <td>United Kingdom</td>\n",
       "      <td>208.7K</td>\n",
       "      <td>289.3K</td>\n",
       "      <td>Lifestyle</td>\n",
       "      <td>Business &amp; Careers</td>\n",
       "    </tr>\n",
       "  </tbody>\n",
       "</table>\n",
       "<p>1000 rows × 8 columns</p>\n",
       "</div>"
      ],
      "text/plain": [
       "               username           name followers audience_country  \\\n",
       "0                   433            433     48.5M            Spain   \n",
       "1          __youngbae__        TAEYANG     12.7M        Indonesia   \n",
       "2           _agentgirl_  НАСТЯ ИВЛЕЕВА     18.8M           Russia   \n",
       "3           _imyour_joy            Joy     13.5M        Indonesia   \n",
       "4         _jeongjaehyun        Jaehyun     11.1M        Indonesia   \n",
       "..                  ...            ...       ...              ...   \n",
       "995             zendaya        Zendaya    136.1M    United States   \n",
       "996              zidane         zidane     31.2M            Spain   \n",
       "997              zkdlin            KAI     13.9M        Indonesia   \n",
       "998  zoeisabellakravitz   Zoë Kravitz      8.2M    United States   \n",
       "999             zoesugg      Zoë Sugg      9.4M   United Kingdom   \n",
       "\n",
       "    authentic_engagement engagement_avg                 category_1  \\\n",
       "0                 383.1K           637K         Sports with a ball   \n",
       "1                   478K         542.3K                      Music   \n",
       "2                 310.8K         377.9K                      Shows   \n",
       "3                   1.1M           1.4M                  Lifestyle   \n",
       "4                   2.5M           3.1M                        NaN   \n",
       "..                   ...            ...                        ...   \n",
       "995                 6.4M           8.6M  Cinema & Actors/actresses   \n",
       "996                 546K         744.1K         Sports with a ball   \n",
       "997                 1.3M           1.6M                      Music   \n",
       "998                 583K         885.5K  Cinema & Actors/actresses   \n",
       "999               208.7K         289.3K                  Lifestyle   \n",
       "\n",
       "             category_2  \n",
       "0                   NaN  \n",
       "1                   NaN  \n",
       "2                   NaN  \n",
       "3                   NaN  \n",
       "4                   NaN  \n",
       "..                  ...  \n",
       "995             Fashion  \n",
       "996                 NaN  \n",
       "997                 NaN  \n",
       "998                 NaN  \n",
       "999  Business & Careers  \n",
       "\n",
       "[1000 rows x 8 columns]"
      ]
     },
     "execution_count": 8,
     "metadata": {},
     "output_type": "execute_result"
    }
   ],
   "source": [
    "ii_df = fetch_data(\"insta_influencer\")\n",
    "ii_df"
   ]
  },
  {
   "cell_type": "code",
   "execution_count": 9,
   "id": "ef323ef1-ed20-41c2-a60e-fcec59b3a44c",
   "metadata": {
    "tags": []
   },
   "outputs": [],
   "source": [
    "toNumbers(ii_df, 'followers')\n",
    "toNumbers(ii_df, 'authentic_engagement')\n",
    "toNumbers(ii_df, 'engagement_avg')"
   ]
  },
  {
   "cell_type": "code",
   "execution_count": 10,
   "id": "06f273cf-d385-49ee-aedf-9f826bf65cfc",
   "metadata": {
    "tags": []
   },
   "outputs": [],
   "source": [
    "ii_df = ii_df.replace('NaN', '')"
   ]
  },
  {
   "cell_type": "code",
   "execution_count": 12,
   "id": "a1ecc054-30f3-4511-b226-ebc3e8e47d1f",
   "metadata": {
    "tags": []
   },
   "outputs": [
    {
     "data": {
      "text/html": [
       "<div>\n",
       "<style scoped>\n",
       "    .dataframe tbody tr th:only-of-type {\n",
       "        vertical-align: middle;\n",
       "    }\n",
       "\n",
       "    .dataframe tbody tr th {\n",
       "        vertical-align: top;\n",
       "    }\n",
       "\n",
       "    .dataframe thead th {\n",
       "        text-align: right;\n",
       "    }\n",
       "</style>\n",
       "<table border=\"1\" class=\"dataframe\">\n",
       "  <thead>\n",
       "    <tr style=\"text-align: right;\">\n",
       "      <th></th>\n",
       "      <th>username</th>\n",
       "      <th>name</th>\n",
       "      <th>followers</th>\n",
       "      <th>audience_country</th>\n",
       "      <th>authentic_engagement</th>\n",
       "      <th>engagement_avg</th>\n",
       "      <th>category_1</th>\n",
       "      <th>category_2</th>\n",
       "    </tr>\n",
       "  </thead>\n",
       "  <tbody>\n",
       "    <tr>\n",
       "      <th>0</th>\n",
       "      <td>433</td>\n",
       "      <td>433</td>\n",
       "      <td>48500000</td>\n",
       "      <td>Spain</td>\n",
       "      <td>383100</td>\n",
       "      <td>637000</td>\n",
       "      <td>Sports with a ball</td>\n",
       "      <td></td>\n",
       "    </tr>\n",
       "    <tr>\n",
       "      <th>1</th>\n",
       "      <td>__youngbae__</td>\n",
       "      <td>TAEYANG</td>\n",
       "      <td>12700000</td>\n",
       "      <td>Indonesia</td>\n",
       "      <td>478000</td>\n",
       "      <td>542300</td>\n",
       "      <td>Music</td>\n",
       "      <td></td>\n",
       "    </tr>\n",
       "    <tr>\n",
       "      <th>2</th>\n",
       "      <td>_agentgirl_</td>\n",
       "      <td>НАСТЯ ИВЛЕЕВА</td>\n",
       "      <td>18800000</td>\n",
       "      <td>Russia</td>\n",
       "      <td>310800</td>\n",
       "      <td>377900</td>\n",
       "      <td>Shows</td>\n",
       "      <td></td>\n",
       "    </tr>\n",
       "    <tr>\n",
       "      <th>3</th>\n",
       "      <td>_imyour_joy</td>\n",
       "      <td>Joy</td>\n",
       "      <td>13500000</td>\n",
       "      <td>Indonesia</td>\n",
       "      <td>1100000</td>\n",
       "      <td>1400000</td>\n",
       "      <td>Lifestyle</td>\n",
       "      <td></td>\n",
       "    </tr>\n",
       "    <tr>\n",
       "      <th>4</th>\n",
       "      <td>_jeongjaehyun</td>\n",
       "      <td>Jaehyun</td>\n",
       "      <td>11100000</td>\n",
       "      <td>Indonesia</td>\n",
       "      <td>2500000</td>\n",
       "      <td>3100000</td>\n",
       "      <td></td>\n",
       "      <td></td>\n",
       "    </tr>\n",
       "    <tr>\n",
       "      <th>...</th>\n",
       "      <td>...</td>\n",
       "      <td>...</td>\n",
       "      <td>...</td>\n",
       "      <td>...</td>\n",
       "      <td>...</td>\n",
       "      <td>...</td>\n",
       "      <td>...</td>\n",
       "      <td>...</td>\n",
       "    </tr>\n",
       "    <tr>\n",
       "      <th>95</th>\n",
       "      <td>asaprocky</td>\n",
       "      <td>GRIM</td>\n",
       "      <td>14600000</td>\n",
       "      <td>United States</td>\n",
       "      <td>383600</td>\n",
       "      <td>641700</td>\n",
       "      <td>Music</td>\n",
       "      <td></td>\n",
       "    </tr>\n",
       "    <tr>\n",
       "      <th>96</th>\n",
       "      <td>ashishchanchlani</td>\n",
       "      <td>Ashish Chanchlani</td>\n",
       "      <td>13300000</td>\n",
       "      <td>India</td>\n",
       "      <td>832600</td>\n",
       "      <td>1000000</td>\n",
       "      <td>Cinema &amp; Actors/actresses</td>\n",
       "      <td></td>\n",
       "    </tr>\n",
       "    <tr>\n",
       "      <th>97</th>\n",
       "      <td>ashleybenson</td>\n",
       "      <td>Ashley Benson</td>\n",
       "      <td>22400000</td>\n",
       "      <td>Brazil</td>\n",
       "      <td>101000</td>\n",
       "      <td>144300</td>\n",
       "      <td>Modeling</td>\n",
       "      <td></td>\n",
       "    </tr>\n",
       "    <tr>\n",
       "      <th>98</th>\n",
       "      <td>ashleygraham</td>\n",
       "      <td>A S H L E Y  G R A H A M</td>\n",
       "      <td>17200000</td>\n",
       "      <td>United States</td>\n",
       "      <td>392700</td>\n",
       "      <td>519500</td>\n",
       "      <td>Modeling</td>\n",
       "      <td></td>\n",
       "    </tr>\n",
       "    <tr>\n",
       "      <th>99</th>\n",
       "      <td>aslisona</td>\n",
       "      <td>Sonakshi Sinha</td>\n",
       "      <td>21400000</td>\n",
       "      <td>India</td>\n",
       "      <td>110200</td>\n",
       "      <td>134100</td>\n",
       "      <td>Cinema &amp; Actors/actresses</td>\n",
       "      <td>Lifestyle</td>\n",
       "    </tr>\n",
       "  </tbody>\n",
       "</table>\n",
       "<p>100 rows × 8 columns</p>\n",
       "</div>"
      ],
      "text/plain": [
       "            username                      name  followers audience_country  \\\n",
       "0                433                       433   48500000            Spain   \n",
       "1       __youngbae__                   TAEYANG   12700000        Indonesia   \n",
       "2        _agentgirl_             НАСТЯ ИВЛЕЕВА   18800000           Russia   \n",
       "3        _imyour_joy                       Joy   13500000        Indonesia   \n",
       "4      _jeongjaehyun                   Jaehyun   11100000        Indonesia   \n",
       "..               ...                       ...        ...              ...   \n",
       "95         asaprocky                      GRIM   14600000    United States   \n",
       "96  ashishchanchlani         Ashish Chanchlani   13300000            India   \n",
       "97      ashleybenson             Ashley Benson   22400000           Brazil   \n",
       "98      ashleygraham  A S H L E Y  G R A H A M   17200000    United States   \n",
       "99          aslisona            Sonakshi Sinha   21400000            India   \n",
       "\n",
       "    authentic_engagement  engagement_avg                 category_1 category_2  \n",
       "0                 383100          637000         Sports with a ball             \n",
       "1                 478000          542300                      Music             \n",
       "2                 310800          377900                      Shows             \n",
       "3                1100000         1400000                  Lifestyle             \n",
       "4                2500000         3100000                                        \n",
       "..                   ...             ...                        ...        ...  \n",
       "95                383600          641700                      Music             \n",
       "96                832600         1000000  Cinema & Actors/actresses             \n",
       "97                101000          144300                   Modeling             \n",
       "98                392700          519500                   Modeling             \n",
       "99                110200          134100  Cinema & Actors/actresses  Lifestyle  \n",
       "\n",
       "[100 rows x 8 columns]"
      ]
     },
     "execution_count": 12,
     "metadata": {},
     "output_type": "execute_result"
    }
   ],
   "source": [
    "ii_df.head(5)"
   ]
  },
  {
   "cell_type": "code",
   "execution_count": null,
   "id": "c9ddbd3c",
   "metadata": {},
   "outputs": [],
   "source": [
    "# creating ddl"
   ]
  },
  {
   "cell_type": "code",
   "execution_count": 19,
   "id": "1bbae2c9-996f-4276-8363-88ad5ef6d21a",
   "metadata": {
    "tags": []
   },
   "outputs": [
    {
     "data": {
      "text/plain": [
       "['username',\n",
       " 'name',\n",
       " 'followers',\n",
       " 'audience_country',\n",
       " 'authentic_engagement',\n",
       " 'engagement_avg',\n",
       " 'category_1',\n",
       " 'category_2']"
      ]
     },
     "execution_count": 19,
     "metadata": {},
     "output_type": "execute_result"
    }
   ],
   "source": [
    "ii_df_cols = list(ii_df.columns.values)\n",
    "ii_df_cols"
   ]
  },
  {
   "cell_type": "code",
   "execution_count": 16,
   "id": "86fe09f7-8648-469c-aaae-7c5f72e696c2",
   "metadata": {
    "tags": []
   },
   "outputs": [
    {
     "data": {
      "text/plain": [
       "username                object\n",
       "name                    object\n",
       "followers                int32\n",
       "audience_country        object\n",
       "authentic_engagement     int32\n",
       "engagement_avg           int32\n",
       "category_1              object\n",
       "category_2              object\n",
       "dtype: object"
      ]
     },
     "execution_count": 16,
     "metadata": {},
     "output_type": "execute_result"
    }
   ],
   "source": [
    "ii_df.dtypes"
   ]
  },
  {
   "cell_type": "code",
   "execution_count": 92,
   "id": "ea133def-3734-470b-8fec-36c6746d53c6",
   "metadata": {
    "tags": []
   },
   "outputs": [
    {
     "data": {
      "text/plain": [
       "['varchar',\n",
       " 'varchar',\n",
       " 'float',\n",
       " 'varchar',\n",
       " 'float',\n",
       " 'float',\n",
       " 'varchar',\n",
       " 'varchar']"
      ]
     },
     "execution_count": 92,
     "metadata": {},
     "output_type": "execute_result"
    }
   ],
   "source": [
    "dtype_list = []\n",
    "for d in ii_df.dtypes:\n",
    "    if d == 'int32':\n",
    "        dtype_list.append('float')\n",
    "    else:\n",
    "        dtype_list.append('varchar')\n",
    "dtype_list"
   ]
  },
  {
   "cell_type": "code",
   "execution_count": 97,
   "id": "1a8cba72-6911-496f-9299-7defd84a5fcf",
   "metadata": {
    "tags": []
   },
   "outputs": [],
   "source": [
    "ddlStmt = 'create table if not exists final_insta_influencer ('\n",
    "\n",
    "for i in range(len(dtype_list)):\n",
    "    ddlStmt = ddlStmt + '\\n' + ii_df_cols[i] + ' ' + dtype_list[i] + ','\n",
    "\n",
    "ddlStmt = ddlStmt[:-1] + ' );'"
   ]
  },
  {
   "cell_type": "code",
   "execution_count": 98,
   "id": "30cf0720-3db4-4e7b-b1d3-473004a6a6b0",
   "metadata": {
    "tags": []
   },
   "outputs": [
    {
     "name": "stdout",
     "output_type": "stream",
     "text": [
      "create table if not exists final_insta_influencer (\n",
      "username varchar,\n",
      "name varchar,\n",
      "followers float,\n",
      "audience_country varchar,\n",
      "authentic_engagement float,\n",
      "engagement_avg float,\n",
      "category_1 varchar,\n",
      "category_2 varchar );\n"
     ]
    }
   ],
   "source": [
    "print(ddlStmt)"
   ]
  },
  {
   "cell_type": "code",
   "execution_count": 106,
   "id": "46825610-fa2e-454f-9fca-657d9219ad37",
   "metadata": {
    "tags": []
   },
   "outputs": [],
   "source": [
    "cur.execute(ddlStmt)"
   ]
  },
  {
   "cell_type": "code",
   "execution_count": null,
   "id": "eedbc2c1-eb9b-4e42-b754-5c345292208e",
   "metadata": {
    "tags": []
   },
   "outputs": [],
   "source": [
    "# inserting data"
   ]
  },
  {
   "cell_type": "code",
   "execution_count": 112,
   "id": "7433ab2d-3ded-4779-ab42-44e153fce994",
   "metadata": {
    "tags": []
   },
   "outputs": [],
   "source": [
    "ii_insert_stmt = (\"INSERT INTO public.final_insta_influencer \\\n",
    "(username, name, followers, audience_country, authentic_engagement, engagement_avg, category_1, category_2) \\\n",
    "VALUES(%s, %s, %s, %s, %s, %s, %s, %s);\")"
   ]
  },
  {
   "cell_type": "code",
   "execution_count": 113,
   "id": "5a63b6af-2de5-4b12-9852-c5f42040d7ae",
   "metadata": {
    "tags": []
   },
   "outputs": [],
   "source": [
    "for i, row in ii_df.iterrows():\n",
    "    cur.execute(ii_insert_stmt, list(row))"
   ]
  },
  {
   "cell_type": "code",
   "execution_count": 114,
   "id": "af2cab54-c4aa-4613-a21d-dd69ed334ab8",
   "metadata": {
    "tags": []
   },
   "outputs": [
    {
     "name": "stdout",
     "output_type": "stream",
     "text": [
      "('433', '433', 48500000.0, 'Spain', 383100.0, 637000.0, 'Sports with a ball', '')\n",
      "('__youngbae__', 'TAEYANG', 12700000.0, 'Indonesia', 478000.0, 542300.0, 'Music', '')\n",
      "('_agentgirl_', 'НАСТЯ ИВЛЕЕВА', 18800000.0, 'Russia', 310800.0, 377900.0, 'Shows', '')\n",
      "('_imyour_joy', 'Joy', 13500000.0, 'Indonesia', 1100000.0, 1400000.0, 'Lifestyle', '')\n",
      "('_jeongjaehyun', 'Jaehyun', 11100000.0, 'Indonesia', 2500000.0, 3100000.0, '', '')\n",
      "('_mariahwasa', 'HWASA', 7900000.0, 'Brazil', 915100.0, 1200000.0, '', '')\n",
      "('_rl9', 'Robert Lewandowski', 25000000.0, 'Poland', 588600.0, 749000.0, 'Sports with a ball', '')\n",
      "('_seorina', '설인아 sᴇᴏʀɪɴᴀ', 3000000.0, 'South Korea', 803900.0, 997800.0, 'Lifestyle', 'Cinema & Actors/actresses')\n",
      "('_shotaroo_', 'SHOTARO ショウタロウ', 4900000.0, 'Indonesia', 860100.0, 1100000.0, '', '')\n",
      "('03_hu', '박지후', 4099999.0, 'South Korea', 711000.0, 872600.0, '', '')\n",
      "('21savage', '', 13200000.0, 'United States', 263500.0, 462000.0, 'Music', '')\n",
      "('333cyj333', 'Ars 🎗', 6500000.0, 'Thailand', 359300.0, 427700.0, 'Music', '')\n",
      "('3gerardpique', 'Gerard Piqué', 19800000.0, 'Spain', 446100.0, 658800.0, 'Sports with a ball', '')\n",
      "('50cent', '50 Cent', 27900000.0, 'United States', 177500.0, 283200.0, 'Music', '')\n",
      "('9gag', '9GAG: Go Fun The World', 58300000.0, 'Indonesia', 214700.0, 276900.0, 'Humor & Fun & Happiness', '')\n"
     ]
    }
   ],
   "source": [
    "cur.execute(\"select * from public.final_insta_influencer limit 15\")\n",
    "res = cur.fetchall()\n",
    "for r in res:\n",
    "    print(r)"
   ]
  },
  {
   "cell_type": "code",
   "execution_count": null,
   "id": "7ac9cd22-5ff5-47ae-9cdc-003fea424f45",
   "metadata": {},
   "outputs": [],
   "source": []
  }
 ],
 "metadata": {
  "kernelspec": {
   "display_name": "Python 3 (ipykernel)",
   "language": "python",
   "name": "python3"
  },
  "language_info": {
   "codemirror_mode": {
    "name": "ipython",
    "version": 3
   },
   "file_extension": ".py",
   "mimetype": "text/x-python",
   "name": "python",
   "nbconvert_exporter": "python",
   "pygments_lexer": "ipython3",
   "version": "3.7.0"
  }
 },
 "nbformat": 4,
 "nbformat_minor": 5
}
